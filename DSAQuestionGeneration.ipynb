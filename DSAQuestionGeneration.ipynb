{
  "nbformat": 4,
  "nbformat_minor": 0,
  "metadata": {
    "colab": {
      "provenance": []
    },
    "kernelspec": {
      "name": "python3",
      "display_name": "Python 3"
    },
    "language_info": {
      "name": "python"
    }
  },
  "cells": [
    {
      "cell_type": "code",
      "execution_count": 7,
      "metadata": {
        "colab": {
          "base_uri": "https://localhost:8080/"
        },
        "id": "Se3hFk-x9Zih",
        "outputId": "c2d17a13-8c89-4497-f13a-482cdeee6af9"
      },
      "outputs": [
        {
          "output_type": "stream",
          "name": "stdout",
          "text": [
            "Collecting openai==0.28\n",
            "  Downloading openai-0.28.0-py3-none-any.whl (76 kB)\n",
            "\u001b[?25l     \u001b[90m━━━━━━━━━━━━━━━━━━━━━━━━━━━━━━━━━━━━━━━━\u001b[0m \u001b[32m0.0/76.5 kB\u001b[0m \u001b[31m?\u001b[0m eta \u001b[36m-:--:--\u001b[0m\r\u001b[2K     \u001b[90m━━━━━━━━━━━━━━━━━━━━━━━━━━━━━━━━━━━━━━━━\u001b[0m \u001b[32m76.5/76.5 kB\u001b[0m \u001b[31m2.1 MB/s\u001b[0m eta \u001b[36m0:00:00\u001b[0m\n",
            "\u001b[?25hRequirement already satisfied: requests>=2.20 in /usr/local/lib/python3.10/dist-packages (from openai==0.28) (2.31.0)\n",
            "Requirement already satisfied: tqdm in /usr/local/lib/python3.10/dist-packages (from openai==0.28) (4.66.2)\n",
            "Requirement already satisfied: aiohttp in /usr/local/lib/python3.10/dist-packages (from openai==0.28) (3.9.3)\n",
            "Requirement already satisfied: charset-normalizer<4,>=2 in /usr/local/lib/python3.10/dist-packages (from requests>=2.20->openai==0.28) (3.3.2)\n",
            "Requirement already satisfied: idna<4,>=2.5 in /usr/local/lib/python3.10/dist-packages (from requests>=2.20->openai==0.28) (3.6)\n",
            "Requirement already satisfied: urllib3<3,>=1.21.1 in /usr/local/lib/python3.10/dist-packages (from requests>=2.20->openai==0.28) (2.0.7)\n",
            "Requirement already satisfied: certifi>=2017.4.17 in /usr/local/lib/python3.10/dist-packages (from requests>=2.20->openai==0.28) (2024.2.2)\n",
            "Requirement already satisfied: aiosignal>=1.1.2 in /usr/local/lib/python3.10/dist-packages (from aiohttp->openai==0.28) (1.3.1)\n",
            "Requirement already satisfied: attrs>=17.3.0 in /usr/local/lib/python3.10/dist-packages (from aiohttp->openai==0.28) (23.2.0)\n",
            "Requirement already satisfied: frozenlist>=1.1.1 in /usr/local/lib/python3.10/dist-packages (from aiohttp->openai==0.28) (1.4.1)\n",
            "Requirement already satisfied: multidict<7.0,>=4.5 in /usr/local/lib/python3.10/dist-packages (from aiohttp->openai==0.28) (6.0.5)\n",
            "Requirement already satisfied: yarl<2.0,>=1.0 in /usr/local/lib/python3.10/dist-packages (from aiohttp->openai==0.28) (1.9.4)\n",
            "Requirement already satisfied: async-timeout<5.0,>=4.0 in /usr/local/lib/python3.10/dist-packages (from aiohttp->openai==0.28) (4.0.3)\n",
            "Installing collected packages: openai\n",
            "Successfully installed openai-0.28.0\n"
          ]
        }
      ],
      "source": [
        "pip install openai==0.28"
      ]
    },
    {
      "cell_type": "code",
      "source": [],
      "metadata": {
        "id": "sarz5ZJfIihc"
      },
      "execution_count": null,
      "outputs": []
    },
    {
      "cell_type": "code",
      "source": [
        "import openai\n",
        "import random\n",
        "openai.api_key = \"-----------\"   # Write Your own API Key"
      ],
      "metadata": {
        "id": "RsdB5eWf9mdn"
      },
      "execution_count": 8,
      "outputs": []
    },
    {
      "cell_type": "code",
      "source": [
        "import openai\n",
        "import random\n",
        "\n",
        "# Defining  DSA topics\n",
        "dsa_topics = {\n",
        "    \"Arrays\": [\n",
        "        \"Dynamic Programming (DP) problems related to arrays.\",\n",
        "        \"Sorting algorithms for arrays.\",\n",
        "        \"Search algorithms for arrays.\"\n",
        "    ],\n",
        "    \"Linked Lists\": [\n",
        "        \"Dynamic Programming (DP) problems related to linked lists.\",\n",
        "        \"Insertion and deletion operations in linked lists.\",\n",
        "        \"Cyclic detection and removal in linked lists.\"\n",
        "    ],\n",
        "    \"Stacks and Queues\": [\n",
        "        \"Implementing stacks and queues using arrays or linked lists.\",\n",
        "        \"Applications of stacks and queues in algorithm design.\",\n",
        "        \"Optimizing stack and queue operations for efficiency.\"\n",
        "    ],\n",
        "    \"Trees\": [\n",
        "        \"Dynamic Programming (DP) problems related to trees.\",\n",
        "        \"Traversal algorithms for trees (e.g., inorder, preorder, postorder).\",\n",
        "        \"Balancing techniques for binary search trees.\"\n",
        "    ]\n",
        "}\n",
        "\n",
        "def generate_dsa_question(topic):\n",
        "    # Better Prompt .....\n",
        "    prompt = f\"\"\"\n",
        "Generate a question related to the following topic:\n",
        "\n",
        "**Topic:** {topic}\n",
        "\n",
        "**Instructions:**\n",
        "- This question is commonly encountered in programming competitions and assessments.\n",
        "- The problem statement should revolve around a concept or problem related to {topic}.\n",
        "- Provide a concise description of the problem or concept, ensuring clarity and accuracy.\n",
        "- Include examples or test cases to illustrate the problem statement effectively.\n",
        "- Ensure proper formatting and punctuation for clear presentation.\n",
        "\n",
        "Write a question that adheres to the provided instructions.\n",
        "\"\"\"\n",
        "\n",
        "    response = openai.Completion.create(\n",
        "        engine=\"gpt-3.5-turbo-instruct\",\n",
        "        prompt=prompt,\n",
        "        max_tokens=120,\n",
        "        temperature=0.5,\n",
        "        n=1,\n",
        "        stop=None\n",
        "    )\n",
        "    return response.choices[0].text.strip()\n",
        "\n",
        "def generate_test_cases(question, num_test_cases=5):\n",
        "    prompt = f\"\"\"\n",
        "Generate numerical test cases for the following question:\n",
        "\n",
        "**Question:** {question}\n",
        "\n",
        "Instructions:\n",
        "- Generate {num_test_cases} test cases where input and/or output are numerical values.\n",
        "- Each test case should include numerical input values and the expected numerical output.\n",
        "- Ensure that the test cases cover various scenarios related to the given question.\n",
        "- Use proper formatting and punctuation for readability.\n",
        "\n",
        "Example Test Cases:\n",
        "Input: [Specify numerical input values here]\n",
        "Output: [Specify expected numerical output here]\n",
        "\n",
        "Write {num_test_cases} test cases that thoroughly test the problem related to the given question.\n",
        "\"\"\"\n",
        "\n",
        "    response = openai.Completion.create(\n",
        "        engine=\"gpt-3.5-turbo-instruct\",\n",
        "        prompt=prompt,\n",
        "        max_tokens=200,\n",
        "        temperature=0.5,\n",
        "        n=1,\n",
        "        stop=None\n",
        "    )\n",
        "    return response.choices[0].text.strip()\n",
        "\n",
        "def generate_random_dsa_question():\n",
        "    topic = random.choice(list(dsa_topics.keys()))\n",
        "    question = generate_dsa_question(topic)\n",
        "    test_cases = generate_test_cases(question)\n",
        "    return f\"DSA Question: {question}\\n(Topic: {topic})\\n\\nTest Cases:\\n{test_cases}\"\n",
        "\n",
        "print(generate_random_dsa_question())\n"
      ],
      "metadata": {
        "colab": {
          "base_uri": "https://localhost:8080/"
        },
        "id": "nOjmn2lT9pNS",
        "outputId": "3fbe3c90-2b01-4f56-a8f2-9184e21d0e47"
      },
      "execution_count": 9,
      "outputs": [
        {
          "output_type": "stream",
          "name": "stdout",
          "text": [
            "DSA Question: How can you efficiently find the second largest element in an unsorted array of integers? Provide an example array and the expected output for clarification.\n",
            "(Topic: Arrays)\n",
            "\n",
            "Test Cases:\n",
            "Test Case 1:\n",
            "Input: [5, 2, 9, 3, 7]\n",
            "Output: 7\n",
            "\n",
            "Test Case 2:\n",
            "Input: [10, 5, 8, 2, 15, 12]\n",
            "Output: 12\n",
            "\n",
            "Test Case 3:\n",
            "Input: [1, 1, 1, 1, 1]\n",
            "Output: 1\n",
            "\n",
            "Test Case 4:\n",
            "Input: [20, 10, 15, 30, 25]\n",
            "Output: 25\n",
            "\n",
            "Test Case 5:\n",
            "Input: [100, 50, 75, 25, 125, 150]\n",
            "Output: 125\n"
          ]
        }
      ]
    },
    {
      "cell_type": "code",
      "source": [],
      "metadata": {
        "id": "lWWJfo1P9ySL"
      },
      "execution_count": 8,
      "outputs": []
    },
    {
      "cell_type": "code",
      "source": [],
      "metadata": {
        "id": "kYfA4pdLAyb4"
      },
      "execution_count": 5,
      "outputs": []
    },
    {
      "cell_type": "code",
      "source": [],
      "metadata": {
        "id": "twKmUbiXBAFN"
      },
      "execution_count": null,
      "outputs": []
    }
  ]
}